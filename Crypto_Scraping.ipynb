{
 "cells": [
  {
   "cell_type": "code",
   "execution_count": 10,
   "id": "a13dbb47",
   "metadata": {},
   "outputs": [],
   "source": [
    "from requests import Request, Session\n",
    "from requests.exceptions import ConnectionError, Timeout, TooManyRedirects\n",
    "import json\n",
    "import pandas as pd\n",
    "from time import time\n",
    "from time import sleep\n",
    "import os\n",
    "from datetime import datetime\n",
    "\n",
    "pd.set_option('display.max_columns', None)\n",
    "pd.set_option('display.max_rows', None)"
   ]
  },
  {
   "cell_type": "code",
   "execution_count": 11,
   "id": "49532a05",
   "metadata": {},
   "outputs": [],
   "source": [
    "# variables\n",
    "\n",
    "URL = 'https://pro-api.coinmarketcap.com/v1/cryptocurrency/listings/latest'\n",
    "API_KEY = 'fe40e8ab-3ea0-4cb9-87cc-ef17a849d9c6'\n",
    "\n",
    "parameters = {\n",
    "    'start':'1',\n",
    "    'limit':'15',\n",
    "    'convert': 'INR'\n",
    "}\n",
    "\n",
    "headers = {\n",
    "    'Accepts' : 'application/json',\n",
    "    'X-CMC_PRO_API_KEY' : API_KEY,\n",
    "}\n",
    "\n",
    "# output csv path\n",
    "output_path = r'C:/Users/mpshi/Desktop/Projects/Web_Scraping_Projects/price_history.csv'"
   ]
  },
  {
   "cell_type": "code",
   "execution_count": 12,
   "id": "bea76c18",
   "metadata": {
    "scrolled": true
   },
   "outputs": [],
   "source": [
    "def api_runner():\n",
    "    session = Session()\n",
    "    session.headers.update(headers)\n",
    "\n",
    "    try:\n",
    "        response = session.get(URL, params=parameters)\n",
    "        data = json.loads(response.text)\n",
    "    except (ConnectionError, Timeout, TooManyRedirects) as e:\n",
    "        print(e)\n",
    "\n",
    "    df = pd.json_normalize(data['data'])\n",
    "    df['date'] = pd.to_datetime('now').strftime('%Y-%b-%d %H:%M:%S')\n",
    "\n",
    "    columns_to_keep = ['id', 'name', 'symbol', 'slug', 'cmc_rank', 'quote.INR.price', 'date']\n",
    "    df = df.loc[:, columns_to_keep]\n",
    "\n",
    "    new_column_names = {'cmc_rank': 'rank', 'quote.INR.price': 'price'}\n",
    "    df.rename(columns=new_column_names, inplace=True)\n",
    "\n",
    "    desired_order = ['date', 'rank', 'id', 'symbol', 'name', 'slug', 'price']\n",
    "    df = df[desired_order]\n",
    "\n",
    "    return df"
   ]
  },
  {
   "cell_type": "code",
   "execution_count": 16,
   "id": "766e0cf8",
   "metadata": {},
   "outputs": [
    {
     "name": "stdout",
     "output_type": "stream",
     "text": [
      "Data appended to CSV file at 2024-Jan-20 21:22:50, File Location: C:/Users/mpshi/Desktop/Projects/Web_Scraping_Projects/price_history.csv\n",
      "Data appended to CSV file at 2024-Jan-20 21:23:52, File Location: C:/Users/mpshi/Desktop/Projects/Web_Scraping_Projects/price_history.csv\n",
      "Data appended to CSV file at 2024-Jan-20 21:24:56, File Location: C:/Users/mpshi/Desktop/Projects/Web_Scraping_Projects/price_history.csv\n",
      "Data appended to CSV file at 2024-Jan-20 21:25:58, File Location: C:/Users/mpshi/Desktop/Projects/Web_Scraping_Projects/price_history.csv\n",
      "Data appended to CSV file at 2024-Jan-20 21:27:02, File Location: C:/Users/mpshi/Desktop/Projects/Web_Scraping_Projects/price_history.csv\n",
      "Data appended to CSV file at 2024-Jan-20 21:28:03, File Location: C:/Users/mpshi/Desktop/Projects/Web_Scraping_Projects/price_history.csv\n",
      "Data appended to CSV file at 2024-Jan-20 21:29:05, File Location: C:/Users/mpshi/Desktop/Projects/Web_Scraping_Projects/price_history.csv\n",
      "Data appended to CSV file at 2024-Jan-20 21:30:07, File Location: C:/Users/mpshi/Desktop/Projects/Web_Scraping_Projects/price_history.csv\n",
      "Data appended to CSV file at 2024-Jan-20 21:31:08, File Location: C:/Users/mpshi/Desktop/Projects/Web_Scraping_Projects/price_history.csv\n",
      "Data appended to CSV file at 2024-Jan-20 21:32:09, File Location: C:/Users/mpshi/Desktop/Projects/Web_Scraping_Projects/price_history.csv\n",
      "Data appended to CSV file at 2024-Jan-20 21:33:10, File Location: C:/Users/mpshi/Desktop/Projects/Web_Scraping_Projects/price_history.csv\n",
      "Data appended to CSV file at 2024-Jan-20 21:34:11, File Location: C:/Users/mpshi/Desktop/Projects/Web_Scraping_Projects/price_history.csv\n",
      "Data appended to CSV file at 2024-Jan-20 21:35:13, File Location: C:/Users/mpshi/Desktop/Projects/Web_Scraping_Projects/price_history.csv\n",
      "Data appended to CSV file at 2024-Jan-20 21:36:16, File Location: C:/Users/mpshi/Desktop/Projects/Web_Scraping_Projects/price_history.csv\n",
      "Data appended to CSV file at 2024-Jan-20 21:37:16, File Location: C:/Users/mpshi/Desktop/Projects/Web_Scraping_Projects/price_history.csv\n",
      "Data appended to CSV file at 2024-Jan-20 21:38:18, File Location: C:/Users/mpshi/Desktop/Projects/Web_Scraping_Projects/price_history.csv\n",
      "Data appended to CSV file at 2024-Jan-20 21:39:19, File Location: C:/Users/mpshi/Desktop/Projects/Web_Scraping_Projects/price_history.csv\n",
      "Data appended to CSV file at 2024-Jan-20 21:40:21, File Location: C:/Users/mpshi/Desktop/Projects/Web_Scraping_Projects/price_history.csv\n",
      "Data appended to CSV file at 2024-Jan-20 22:07:25, File Location: C:/Users/mpshi/Desktop/Projects/Web_Scraping_Projects/price_history.csv\n",
      "Data appended to CSV file at 2024-Jan-20 22:08:27, File Location: C:/Users/mpshi/Desktop/Projects/Web_Scraping_Projects/price_history.csv\n",
      "Data appended to CSV file at 2024-Jan-20 22:09:32, File Location: C:/Users/mpshi/Desktop/Projects/Web_Scraping_Projects/price_history.csv\n",
      "Data appended to CSV file at 2024-Jan-20 22:10:35, File Location: C:/Users/mpshi/Desktop/Projects/Web_Scraping_Projects/price_history.csv\n",
      "Data appended to CSV file at 2024-Jan-20 22:11:37, File Location: C:/Users/mpshi/Desktop/Projects/Web_Scraping_Projects/price_history.csv\n",
      "Data appended to CSV file at 2024-Jan-20 22:12:39, File Location: C:/Users/mpshi/Desktop/Projects/Web_Scraping_Projects/price_history.csv\n"
     ]
    },
    {
     "ename": "KeyboardInterrupt",
     "evalue": "",
     "output_type": "error",
     "traceback": [
      "\u001b[1;31m---------------------------------------------------------------------------\u001b[0m",
      "\u001b[1;31mKeyboardInterrupt\u001b[0m                         Traceback (most recent call last)",
      "Cell \u001b[1;32mIn[16], line 8\u001b[0m\n\u001b[0;32m      6\u001b[0m     df\u001b[38;5;241m.\u001b[39mto_csv(output_path, mode\u001b[38;5;241m=\u001b[39m\u001b[38;5;124m'\u001b[39m\u001b[38;5;124ma\u001b[39m\u001b[38;5;124m'\u001b[39m, header\u001b[38;5;241m=\u001b[39m\u001b[38;5;28;01mFalse\u001b[39;00m, index\u001b[38;5;241m=\u001b[39m\u001b[38;5;28;01mFalse\u001b[39;00m)\n\u001b[0;32m      7\u001b[0m \u001b[38;5;28mprint\u001b[39m(\u001b[38;5;124mf\u001b[39m\u001b[38;5;124m\"\u001b[39m\u001b[38;5;124mData appended to CSV file at \u001b[39m\u001b[38;5;132;01m{\u001b[39;00mpd\u001b[38;5;241m.\u001b[39mto_datetime(\u001b[38;5;124m'\u001b[39m\u001b[38;5;124mnow\u001b[39m\u001b[38;5;124m'\u001b[39m)\u001b[38;5;241m.\u001b[39mstrftime(\u001b[38;5;124m'\u001b[39m\u001b[38;5;124m%\u001b[39m\u001b[38;5;124mY-\u001b[39m\u001b[38;5;124m%\u001b[39m\u001b[38;5;124mb-\u001b[39m\u001b[38;5;132;01m%d\u001b[39;00m\u001b[38;5;124m \u001b[39m\u001b[38;5;124m%\u001b[39m\u001b[38;5;124mH:\u001b[39m\u001b[38;5;124m%\u001b[39m\u001b[38;5;124mM:\u001b[39m\u001b[38;5;124m%\u001b[39m\u001b[38;5;124mS\u001b[39m\u001b[38;5;124m'\u001b[39m)\u001b[38;5;132;01m}\u001b[39;00m\u001b[38;5;124m, File Location: \u001b[39m\u001b[38;5;132;01m{\u001b[39;00moutput_path\u001b[38;5;132;01m}\u001b[39;00m\u001b[38;5;124m\"\u001b[39m)\n\u001b[1;32m----> 8\u001b[0m sleep(\u001b[38;5;241m60\u001b[39m)\n",
      "\u001b[1;31mKeyboardInterrupt\u001b[0m: "
     ]
    }
   ],
   "source": [
    "while True:\n",
    "    df = api_runner()\n",
    "    if not os.path.isfile(output_path):\n",
    "        df.to_csv(output_path, header='column_names', index=False)\n",
    "    else:\n",
    "        df.to_csv(output_path, mode='a', header=False, index=False)\n",
    "    print(f\"Data appended to CSV file at {pd.to_datetime('now').strftime('%Y-%b-%d %H:%M:%S')}, File Location: {output_path}\")\n",
    "    sleep(60)  # Sleep for 60 seconds (1 minute)\n",
    "    # stop manually by interrupting the kernel"
   ]
  },
  {
   "cell_type": "code",
   "execution_count": 17,
   "id": "58c5f698",
   "metadata": {},
   "outputs": [
    {
     "data": {
      "application/javascript": [
       "window.require && require([\"base/js/namespace\"],function(Jupyter){Jupyter.notebook.save_checkpoint()})"
      ],
      "text/plain": [
       "<IPython.core.display.Javascript object>"
      ]
     },
     "metadata": {},
     "output_type": "display_data"
    },
    {
     "name": "stdout",
     "output_type": "stream",
     "text": [
      "[jovian] Creating a new project \"mpshivanandpatil2002/crypto-price-scraper\"\u001b[0m\n",
      "[jovian] Committed successfully! https://jovian.com/mpshivanandpatil2002/crypto-price-scraper\u001b[0m\n"
     ]
    },
    {
     "data": {
      "text/plain": [
       "'https://jovian.com/mpshivanandpatil2002/crypto-price-scraper'"
      ]
     },
     "execution_count": 17,
     "metadata": {},
     "output_type": "execute_result"
    }
   ],
   "source": [
    "import jovian\n",
    "\n",
    "project = \"crypto-price-scraper\"\n",
    "jovian.commit(project=project)"
   ]
  },
  {
   "cell_type": "code",
   "execution_count": null,
   "id": "4175a2f0",
   "metadata": {},
   "outputs": [],
   "source": []
  }
 ],
 "metadata": {
  "kernelspec": {
   "display_name": "Python 3 (ipykernel)",
   "language": "python",
   "name": "python3"
  },
  "language_info": {
   "codemirror_mode": {
    "name": "ipython",
    "version": 3
   },
   "file_extension": ".py",
   "mimetype": "text/x-python",
   "name": "python",
   "nbconvert_exporter": "python",
   "pygments_lexer": "ipython3",
   "version": "3.11.5"
  }
 },
 "nbformat": 4,
 "nbformat_minor": 5
}
