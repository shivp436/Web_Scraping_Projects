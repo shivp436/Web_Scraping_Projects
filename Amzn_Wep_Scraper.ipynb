{
 "cells": [
  {
   "cell_type": "code",
   "execution_count": 1,
   "id": "002002ef",
   "metadata": {},
   "outputs": [],
   "source": [
    "# import libraries\n",
    "\n",
    "from bs4 import BeautifulSoup\n",
    "import requests\n",
    "import time\n",
    "import datetime\n",
    "\n",
    "import smtplib"
   ]
  },
  {
   "cell_type": "code",
   "execution_count": 2,
   "id": "4fd9e7d8",
   "metadata": {},
   "outputs": [],
   "source": [
    "# Product URL\n",
    "URL = 'https://www.amazon.com/dp/B07FWCH9MQ/ref=sspa_dk_detail_3?psc=1&pd_rd_i=B07FWCH9MQ&pd_rd_w=zmFfQ&content-id=amzn1.sym.a53ea610-e450-44d1-897e-68c0c718bf50&pf_rd_p=a53ea610-e450-44d1-897e-68c0c718bf50&pf_rd_r=KFMDNF6FD4EEPSG1D10B&pd_rd_wg=RSo4b&pd_rd_r=f97e6c70-e41e-4a9c-a74f-d1b601d3e948&s=apparel&sp_csd=d2lkZ2V0TmFtZT1zcF9kZXRhaWxfdGhlbWF0aWM'\n",
    "\n",
    "headers = {\"User-Agent\": \"Mozilla/5.0 (Windows NT 10.0; Win64; x64) AppleWebKit/537.36 (KHTML, like Gecko) Chrome/78.0.3904.108 Safari/537.36\", \"Accept-Encoding\":\"gzip, deflate\", \"Accept\":\"text/html,application/xhtml+xml,application/xml;q=0.9,*/*;q=0.8\", \"DNT\":\"1\",\"Connection\":\"close\", \"Upgrade-Insecure-Requests\":\"1\"}\n",
    "\n",
    "page = requests.get(URL, headers=headers)\n",
    "\n",
    "soup1 = BeautifulSoup(page.content, \"html.parser\")\n",
    "\n",
    "soup2 = BeautifulSoup(soup1.prettify(), \"html.parser\")"
   ]
  },
  {
   "cell_type": "code",
   "execution_count": 3,
   "id": "941ab130",
   "metadata": {},
   "outputs": [
    {
     "name": "stdout",
     "output_type": "stream",
     "text": [
      "Womens I Like Coffee and Maybe 3 People T Shirt Funny Sarcastic Tee for Ladies\n",
      "12.99\n",
      "2024-01-20\n"
     ]
    }
   ],
   "source": [
    "# get product title\n",
    "\n",
    "product_title = soup2.find(id='productTitle').get_text().strip()\n",
    "price = soup2.find(id='price_inside_buybox')\n",
    "price2 = soup2.find(\"span\", class_=\"apexPriceToPay\").find_all(\"span\")[-1]\n",
    "# sometimes price doesn't work, so price 2\n",
    "if price:\n",
    "    price = price.get_text().strip()[1:]\n",
    "else:\n",
    "    price = price2.get_text().strip()[1:]\n",
    "\n",
    "date = datetime.date.today()\n",
    "\n",
    "print(product_title)\n",
    "print(price)\n",
    "print(date)"
   ]
  },
  {
   "cell_type": "code",
   "execution_count": 4,
   "id": "ddf2a385",
   "metadata": {},
   "outputs": [
    {
     "data": {
      "text/html": [
       "<div>\n",
       "<style scoped>\n",
       "    .dataframe tbody tr th:only-of-type {\n",
       "        vertical-align: middle;\n",
       "    }\n",
       "\n",
       "    .dataframe tbody tr th {\n",
       "        vertical-align: top;\n",
       "    }\n",
       "\n",
       "    .dataframe thead th {\n",
       "        text-align: right;\n",
       "    }\n",
       "</style>\n",
       "<table border=\"1\" class=\"dataframe\">\n",
       "  <thead>\n",
       "    <tr style=\"text-align: right;\">\n",
       "      <th></th>\n",
       "      <th>Product Title</th>\n",
       "      <th>Price</th>\n",
       "      <th>Date</th>\n",
       "    </tr>\n",
       "  </thead>\n",
       "  <tbody>\n",
       "    <tr>\n",
       "      <th>0</th>\n",
       "      <td>Womens I Like Coffee and Maybe 3 People T Shir...</td>\n",
       "      <td>12.99</td>\n",
       "      <td>2024-01-20</td>\n",
       "    </tr>\n",
       "  </tbody>\n",
       "</table>\n",
       "</div>"
      ],
      "text/plain": [
       "                                       Product Title  Price        Date\n",
       "0  Womens I Like Coffee and Maybe 3 People T Shir...  12.99  2024-01-20"
      ]
     },
     "execution_count": 4,
     "metadata": {},
     "output_type": "execute_result"
    }
   ],
   "source": [
    "import pandas as pd\n",
    "\n",
    "# Create a DataFrame\n",
    "data = {'Product Title': [product_title], 'Price': [price], 'Date': [date]}\n",
    "df = pd.DataFrame(data)\n",
    "\n",
    "df"
   ]
  },
  {
   "cell_type": "code",
   "execution_count": 5,
   "id": "453a4cc1",
   "metadata": {},
   "outputs": [
    {
     "data": {
      "application/javascript": [
       "window.require && require([\"base/js/namespace\"],function(Jupyter){Jupyter.notebook.save_checkpoint()})"
      ],
      "text/plain": [
       "<IPython.core.display.Javascript object>"
      ]
     },
     "metadata": {},
     "output_type": "display_data"
    },
    {
     "name": "stdout",
     "output_type": "stream",
     "text": [
      "[jovian] Creating a new project \"mpshivanandpatil2002/amazon-web-scraper\"\u001b[0m\n",
      "[jovian] Committed successfully! https://jovian.com/mpshivanandpatil2002/amazon-web-scraper\u001b[0m\n"
     ]
    },
    {
     "data": {
      "text/plain": [
       "'https://jovian.com/mpshivanandpatil2002/amazon-web-scraper'"
      ]
     },
     "execution_count": 5,
     "metadata": {},
     "output_type": "execute_result"
    }
   ],
   "source": [
    "import jovian\n",
    "\n",
    "project = \"amazon-web-scraper\"\n",
    "\n",
    "jovian.commit(project=project)"
   ]
  },
  {
   "cell_type": "code",
   "execution_count": null,
   "id": "e244d967",
   "metadata": {},
   "outputs": [],
   "source": []
  }
 ],
 "metadata": {
  "kernelspec": {
   "display_name": "Python 3 (ipykernel)",
   "language": "python",
   "name": "python3"
  },
  "language_info": {
   "codemirror_mode": {
    "name": "ipython",
    "version": 3
   },
   "file_extension": ".py",
   "mimetype": "text/x-python",
   "name": "python",
   "nbconvert_exporter": "python",
   "pygments_lexer": "ipython3",
   "version": "3.11.5"
  }
 },
 "nbformat": 4,
 "nbformat_minor": 5
}
